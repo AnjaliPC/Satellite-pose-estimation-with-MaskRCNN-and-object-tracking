{
 "cells": [
  {
   "cell_type": "markdown",
   "metadata": {},
   "source": [
    "                                              TESTING MASK-RCNN"
   ]
  },
  {
   "cell_type": "markdown",
   "metadata": {},
   "source": [
    "***IMPORTING REQUIRED PACKAGES & INITIAZING THE ROOT DIRECTORY AS WELL WEIGHT'S PATH***"
   ]
  },
  {
   "cell_type": "code",
   "execution_count": null,
   "metadata": {},
   "outputs": [],
   "source": [
    "import warnings\n",
    "warnings.filterwarnings('ignore')\n",
    "import os\n",
    "import sys\n",
    "import json\n",
    "import datetime\n",
    "import numpy as np\n",
    "import skimage.draw\n",
    "import cv2\n",
    "import random\n",
    "import math\n",
    "import re\n",
    "import time\n",
    "import tensorflow as tf\n",
    "# import tensorflow.compat.v1 as tf\n",
    "import matplotlib.pyplot as plt\n",
    "import matplotlib.patches as patches\n",
    "import matplotlib.image as mpimg\n",
    "\n",
    "from mrcnn import utils\n",
    "from mrcnn import visualize\n",
    "from mrcnn.visualize import display_images\n",
    "from mrcnn.visualize import display_instances\n",
    "import mrcnn.model as modellib\n",
    "from mrcnn.model import log\n",
    "from mrcnn.config import Config\n",
    "from mrcnn import model as modellib, utils\n",
    "from mrcnn.model import mold_image\n",
    "from numpy import expand_dims\n",
    "from numpy import mean\n",
    "\n",
    "#import custom\n",
    "\n",
    "# Root directory of the project\n",
    "ROOT_DIR = \"C:/Users/user/Desktop/EVERYTHING/APC/Mtech/Mtech-Sem3/DISSERTATION/FINAL_DATASET/project/PROJECT_1\"\n",
    "\n",
    "DEFAULT_LOGS_DIR = os.path.join(ROOT_DIR, \"logs\")\n",
    "\n",
    "MODEL_DIR = os.path.join(ROOT_DIR, \"logs\")\n",
    "\n",
    "\n",
    "WEIGHTS_PATH = \"C:/Users/user/Desktop/EVERYTHING/APC/Mtech/Mtech-Sem3/DISSERTATION/FINAL_DATASET/project/PROJECT_1/logs/object20220119T2303/mask_rcnn_object_0008.h5\"   # change it\n"
   ]
  },
  {
   "cell_type": "code",
   "execution_count": null,
   "metadata": {},
   "outputs": [],
   "source": [
    "import tensorflow as tf\n",
    "print(tf.__version__)"
   ]
  },
  {
   "cell_type": "code",
   "execution_count": null,
   "metadata": {},
   "outputs": [],
   "source": [
    "import keras\n",
    "print(keras.__version__)"
   ]
  },
  {
   "cell_type": "code",
   "execution_count": null,
   "metadata": {},
   "outputs": [],
   "source": [
    "import cv2\n",
    " \n",
    "# read image\n",
    "img = cv2.imread('C:/Users/user/Desktop/EVERYTHING/APC/Mtech/Mtech-Sem3/DISSERTATION/FINAL_DATASET/project/PROJECT_1/Dataset/train/frame0.png', cv2.IMREAD_UNCHANGED)\n",
    " \n",
    "# get dimensions of image\n",
    "dimensions = img.shape\n",
    " \n",
    "# height, width, number of channels in image\n",
    "height = img.shape[0]\n",
    "width = img.shape[1]\n",
    "channels = img.shape[2]\n",
    " \n",
    "print('Image Dimension    : ',dimensions)\n",
    "print('Image Height       : ',height)\n",
    "print('Image Width        : ',width)\n",
    "print('Number of Channels : ',channels)"
   ]
  },
  {
   "cell_type": "code",
   "execution_count": null,
   "metadata": {},
   "outputs": [],
   "source": [
    "class CustomConfig(Config):\n",
    "    \"\"\"Configuration for training on the custom  dataset.\n",
    "    Derives from the base Config class and overrides some values.\n",
    "    \"\"\"\n",
    "    # Give the configuration a recognizable name\n",
    "    NAME = \"object\"\n",
    "\n",
    "    IMAGES_PER_GPU = 1\n",
    "\n",
    "    NUM_CLASSES = 1 + 2  # Background + spacecraft/satellite and non_satellite_body\n",
    "\n",
    "    # Number of training steps per epoch\n",
    "    STEPS_PER_EPOCH = 10\n",
    "\n",
    "    # Skip detections with < 90% confidence\n",
    "    DETECTION_MIN_CONFIDENCE = 0.9"
   ]
  },
  {
   "cell_type": "code",
   "execution_count": null,
   "metadata": {},
   "outputs": [],
   "source": [
    "config = CustomConfig()\n",
    "CUSTOM_DIR = os.path.join(ROOT_DIR, \"/Dataset/\")\n",
    "class InferenceConfig(config.__class__):\n",
    "    # Run detection on one image at a time\n",
    "    GPU_COUNT = 1\n",
    "    IMAGES_PER_GPU = 1\n",
    "    DETECTION_MIN_CONFIDENCE = 0.7\n",
    "\n",
    "config = InferenceConfig()\n",
    "config.display()"
   ]
  },
  {
   "cell_type": "code",
   "execution_count": null,
   "metadata": {},
   "outputs": [],
   "source": [
    "# Code for Customdataset class. Same code is present in custom.py file also\n",
    "class CustomDataset(utils.Dataset):\n",
    "\n",
    "    def load_custom(self, dataset_dir, subset):\n",
    "\n",
    "        self.add_class(\"object\", 1, \"satellite\")\n",
    "        self.add_class(\"object\", 2, \"non_satellite_body\")\n",
    "        #self.add_class(\"object\", 3, \"phone\")\n",
    "\n",
    "        assert subset in [\"train\", \"val\"]\n",
    "        dataset_dir = os.path.join(dataset_dir, subset)\n",
    "        annotations1 = json.load(open('C:/Users/user/Desktop/EVERYTHING/APC/Mtech/Mtech-Sem3/DISSERTATION/FINAL_DATASET/project/PROJECT_1/Dataset/val/via_region_data.json'))\n",
    "\n",
    "        annotations = list(annotations1.values())  # don't need the dict keys\n",
    "\n",
    "        annotations = [a for a in annotations if a['regions']]\n",
    "        \n",
    "        # Add images\n",
    "        for a in annotations:\n",
    "           \n",
    "            polygons = [r['shape_attributes'] for r in a['regions']] \n",
    "            objects = [s['region_attributes']['name'] for s in a['regions']]\n",
    "            print(\"objects:\",objects)\n",
    "            name_dict = {\"satellite\": 1,\"non_satellite_body\": 2}#,\"phone\": 3}\n",
    "            num_ids = [name_dict[a] for a in objects]\n",
    "\n",
    "            print(\"numids\",num_ids)\n",
    "            image_path = os.path.join(dataset_dir, a['filename'])\n",
    "            image = skimage.io.imread(image_path)\n",
    "            height, width = image.shape[:2]\n",
    "\n",
    "            self.add_image(\n",
    "                \"object\", \n",
    "                image_id=a['filename'],  # use file name as a unique image id\n",
    "                path=image_path,\n",
    "                width=width, height=height,\n",
    "                polygons=polygons,\n",
    "                num_ids=num_ids\n",
    "                )\n",
    "\n",
    "    def load_mask(self, image_id):\n",
    "       \n",
    "        image_info = self.image_info[image_id]\n",
    "        if image_info[\"source\"] != \"object\":\n",
    "            return super(self.__class__, self).load_mask(image_id)\n",
    "\n",
    "        info = self.image_info[image_id]\n",
    "        if info[\"source\"] != \"object\":\n",
    "            return super(self.__class__, self).load_mask(image_id)\n",
    "        num_ids = info['num_ids']\n",
    "        mask = np.zeros([info[\"height\"], info[\"width\"], len(info[\"polygons\"])],\n",
    "                        dtype=np.uint8)\n",
    "        for i, p in enumerate(info[\"polygons\"]):\n",
    "\n",
    "        \trr, cc = skimage.draw.polygon(p['all_points_y'], p['all_points_x'])\n",
    "\n",
    "        \tmask[rr, cc, i] = 1\n",
    "\n",
    "        num_ids = np.array(num_ids, dtype=np.int32)\n",
    "        return mask, num_ids #np.ones([mask.shape[-1]], dtype=np.int32)\n",
    "\n",
    "    def image_reference(self, image_id):\n",
    "        \"\"\"Return the path of the image.\"\"\"\n",
    "        info = self.image_info[image_id]\n",
    "        if info[\"source\"] == \"object\":\n",
    "            return info[\"path\"]\n",
    "        else:\n",
    "            super(self.__class__, self).image_reference(image_id)\n"
   ]
  },
  {
   "cell_type": "code",
   "execution_count": null,
   "metadata": {},
   "outputs": [],
   "source": [
    "# Inspect the model in training or inference modes values: 'inference' or 'training'\n",
    "TEST_MODE = \"inference\"\n",
    "ROOT_DIR = \"C:/Users/user/Desktop/EVERYTHING/APC/Mtech/Mtech-Sem3/DISSERTATION/FINAL_DATASET/project/PROJECT_1/Dataset\"\n",
    "\n",
    "def get_ax(rows=1, cols=1, size=16):\n",
    "  \"\"\"Return a Matplotlib Axes array to be used in all visualizations in the notebook.  Provide a central point to control graph sizes. Adjust the size attribute to control how big to render images\"\"\"\n",
    "  _, ax = plt.subplots(rows, cols, figsize=(size*cols, size*rows))\n",
    "  return ax\n",
    "\n",
    "# Load validation dataset\n",
    "# Must call before using the dataset\n",
    "CUSTOM_DIR = \"C:/Users/user/Desktop/EVERYTHING/APC/Mtech/Mtech-Sem3/DISSERTATION/FINAL_DATASET/project/PROJECT_1/Dataset\"\n",
    "dataset = CustomDataset()\n",
    "dataset.load_custom(CUSTOM_DIR, \"val\")\n",
    "dataset.prepare()\n",
    "print(\"Images: {}\\nClasses: {}\".format(len(dataset.image_ids), dataset.class_names))"
   ]
  },
  {
   "cell_type": "code",
   "execution_count": null,
   "metadata": {},
   "outputs": [],
   "source": [
    "config = CustomConfig()\n",
    "#LOAD MODEL. Create model in inference mode\n",
    "model = modellib.MaskRCNN(mode=\"inference\", model_dir=MODEL_DIR, config=config)"
   ]
  },
  {
   "cell_type": "code",
   "execution_count": null,
   "metadata": {
    "scrolled": true
   },
   "outputs": [],
   "source": [
    "# Load COCO weights Or, load the last model you trained\n",
    "weights_path = WEIGHTS_PATH\n",
    "# Load weights\n",
    "print(\"Loading weights \", weights_path)\n",
    "model.load_weights(weights_path, by_name=True)"
   ]
  },
  {
   "cell_type": "markdown",
   "metadata": {},
   "source": [
    "***READING AND SHOWING AN IMAGE***"
   ]
  },
  {
   "cell_type": "code",
   "execution_count": null,
   "metadata": {},
   "outputs": [],
   "source": [
    "import skimage.io\n",
    "import matplotlib.pyplot\n",
    "\n",
    "img = skimage.io.imread(\"C:/Users/user/Desktop/EVERYTHING/APC/Mtech/Mtech-Sem3/DISSERTATION/FINAL_DATASET/project/PROJECT_1/Dataset/val/frame1200.png\")\n",
    "\n",
    "matplotlib.pyplot.imshow(img)\n",
    "matplotlib.pyplot.show()"
   ]
  },
  {
   "cell_type": "markdown",
   "metadata": {},
   "source": [
    "***READING A JSON FILE***"
   ]
  },
  {
   "cell_type": "code",
   "execution_count": null,
   "metadata": {},
   "outputs": [],
   "source": [
    "import json\n",
    "import numpy as np\n",
    "import pandas as pd\n",
    "\n",
    "train_set_f = open(r\"C:\\Users\\user\\Desktop\\EVERYTHING\\APC\\Mtech\\Mtech-Sem3\\DISSERTATION\\FINAL_DATASET\\project\\PROJECT_1\\Dataset\\train\\via_region_data.json\")\n",
    "\n",
    "data = json.load(train_set_f)\n",
    "\n",
    "table_output = pd.DataFrame(data)\n"
   ]
  },
  {
   "cell_type": "code",
   "execution_count": null,
   "metadata": {},
   "outputs": [],
   "source": [
    "data"
   ]
  },
  {
   "cell_type": "code",
   "execution_count": null,
   "metadata": {},
   "outputs": [],
   "source": [
    "table_output"
   ]
  },
  {
   "cell_type": "code",
   "execution_count": null,
   "metadata": {},
   "outputs": [],
   "source": [
    "#Now, we are ready for testing our model on any image.\n",
    "\n",
    "#RUN DETECTION\n",
    "image_id = random.choice(dataset.image_ids)\n",
    "#image_id = 'D:/MaskRCNN-aar/Dataset/val/1.jfif'\n",
    "print(\"image id is :\",image_id)\n",
    "image, image_meta, gt_class_id, gt_bbox, gt_mask =\\\n",
    "modellib.load_image_gt(dataset, config, image_id, use_mini_mask=False)\n",
    "info = dataset.image_info[image_id]\n",
    "print(\"image ID: {}.{} ({}) {}\".format(info[\"source\"], info[\"id\"], image_id,dataset.image_reference(image_id)))\n",
    "\n",
    "# Run object detection\n",
    "results = model.detect([image], verbose=1)\n",
    "\n"
   ]
  },
  {
   "cell_type": "code",
   "execution_count": null,
   "metadata": {
    "scrolled": true
   },
   "outputs": [],
   "source": [
    "# Display results\n",
    "x = get_ax(1)\n",
    "r = results[0]\n",
    "ax = plt.gca()\n",
    "#visualize.display_instances(image, r['rois'], r['masks'], r['class_ids'], dataset.class_names, r['scores'], ax=ax, title=\"Predictions\")\n",
    "\n",
    "visualize.display_instances(image, r['rois'],r['masks'], r['class_ids'], dataset.class_names, r['scores'], ax=ax, title=\"Predictions\")\n",
    "\n",
    "\n",
    "log(\"gt_class_id\", gt_class_id)\n",
    "log(\"gt_bbox\", gt_bbox)\n",
    "log(\"gt_mask\", gt_mask)\n",
    "# This is for predicting images which are not present in dataset\n",
    "path_to_new_image = 'C:/Users/user/Desktop/EVERYTHING/APC/Mtech/Mtech-Sem3/DISSERTATION/FINAL_DATASET/project/PROJECT_1/Dataset/val_sample/frame1500.png'\n",
    "image1 = cv2.imread(path_to_new_image)\n",
    "\n",
    "# Run object detection\n",
    "print(len([image1]))\n",
    "results1 = model.detect([image1], verbose=1)\n",
    "\n",
    "# Display results\n",
    "ax = get_ax(1)\n",
    "r1 = results1[0]\n",
    "visualize.display_instances(image1, r1['rois'], r1['masks'], r1['class_ids'],\n",
    "dataset.class_names, r1['scores'], ax=ax, title=\"Predictions1\")"
   ]
  },
  {
   "cell_type": "code",
   "execution_count": null,
   "metadata": {},
   "outputs": [],
   "source": [
    "# calculate the mAP for a model on a given dataset\n",
    "def evaluate_model(dataset, model, cfg):\n",
    "\tAPs = list()\n",
    "\tfor image_id in dataset.image_ids:\n",
    "\t\t# load image, bounding boxes and masks for the image id\n",
    "\t\timage, image_meta, gt_class_id, gt_bbox, gt_mask = modellib.load_image_gt(dataset, cfg, image_id, use_mini_mask=False)\n",
    "\t\t# convert pixel values (e.g. center)\n",
    "\t\tscaled_image = mold_image(image, cfg)\n",
    "\t\t# convert image into one sample\n",
    "\t\tsample = expand_dims(scaled_image, 0)\n",
    "\t\t# make prediction\n",
    "\t\tyhat = model.detect(sample, verbose=0)\n",
    "\t\t# extract results for first sample\n",
    "\t\tr = yhat[0]\n",
    "\t\t# calculate statistics, including AP\n",
    "\t\tAP, _, _, _ = utils.compute_ap(gt_bbox, gt_class_id, gt_mask, r[\"rois\"], r[\"class_ids\"], r[\"scores\"], r['masks'])\n",
    "\t\t# store\n",
    "\t\tAPs.append(AP)\n",
    "\t# calculate the mean AP across all images\n",
    "# \tmAP = mean(APs)\n",
    "# \tAP = APs\n",
    "\treturn APs"
   ]
  },
  {
   "cell_type": "code",
   "execution_count": null,
   "metadata": {},
   "outputs": [],
   "source": [
    "# evaluate model on validation dataset\n",
    "val_AP = evaluate_model(dataset, model, config)\n",
    "TOTAL = 0.0\n",
    "for i in range(0,len(val_AP)):\n",
    "    TOTAL = TOTAL + val_AP[i]\n",
    "print(\"Validation AP: \", TOTAL)\n",
    "val_mAP = TOTAL/len(val_AP)\n",
    "print(\"Validation mAP: %.3f\" % val_mAP)"
   ]
  },
  {
   "cell_type": "code",
   "execution_count": null,
   "metadata": {},
   "outputs": [],
   "source": [
    "print(\"Each Validation AP: \", val_AP)"
   ]
  },
  {
   "cell_type": "code",
   "execution_count": null,
   "metadata": {},
   "outputs": [],
   "source": [
    "# Code for Customdataset class. Same code is present in custom.py file also\n",
    "class CustomDataset_train(utils.Dataset):\n",
    "\n",
    "    def load_custom(self, dataset_dir, subset):\n",
    "\n",
    "        self.add_class(\"object\", 1, \"satellite\")\n",
    "        self.add_class(\"object\", 2, \"non_satellite_body\")\n",
    "        #self.add_class(\"object\", 3, \"phone\")\n",
    "\n",
    "        assert subset in [\"train\", \"val\"]\n",
    "        dataset_dir = os.path.join(dataset_dir, subset)\n",
    "        annotations1 = json.load(open('C:/Users/user/Desktop/EVERYTHING/APC/Mtech/Mtech-Sem3/DISSERTATION/FINAL_DATASET/project/PROJECT_1/Dataset/train/via_region_data.json'))\n",
    "\n",
    "        annotations = list(annotations1.values())  # don't need the dict keys\n",
    "\n",
    "        annotations = [a for a in annotations if a['regions']]\n",
    "        \n",
    "        # Add images\n",
    "        for a in annotations:\n",
    "           \n",
    "            polygons = [r['shape_attributes'] for r in a['regions']] \n",
    "            objects = [s['region_attributes']['name'] for s in a['regions']]\n",
    "            print(\"objects:\",objects)\n",
    "            name_dict = {\"satellite\": 1,\"non_satellite_body\": 2}#,\"phone\": 3}\n",
    "            num_ids = [name_dict[a] for a in objects]\n",
    "\n",
    "            print(\"numids\",num_ids)\n",
    "            image_path = os.path.join(dataset_dir, a['filename'])\n",
    "            image = skimage.io.imread(image_path)\n",
    "            height, width = image.shape[:2]\n",
    "\n",
    "            self.add_image(\n",
    "                \"object\", \n",
    "                image_id=a['filename'],  # use file name as a unique image id\n",
    "                path=image_path,\n",
    "                width=width, height=height,\n",
    "                polygons=polygons,\n",
    "                num_ids=num_ids\n",
    "                )\n",
    "\n",
    "    def load_mask(self, image_id):\n",
    "       \n",
    "        image_info = self.image_info[image_id]\n",
    "        if image_info[\"source\"] != \"object\":\n",
    "            return super(self.__class__, self).load_mask(image_id)\n",
    "\n",
    "        info = self.image_info[image_id]\n",
    "        if info[\"source\"] != \"object\":\n",
    "            return super(self.__class__, self).load_mask(image_id)\n",
    "        num_ids = info['num_ids']\n",
    "        mask = np.zeros([info[\"height\"], info[\"width\"], len(info[\"polygons\"])],\n",
    "                        dtype=np.uint8)\n",
    "        for i, p in enumerate(info[\"polygons\"]):\n",
    "\n",
    "        \trr, cc = skimage.draw.polygon(p['all_points_y'], p['all_points_x'])\n",
    "\n",
    "        \tmask[rr, cc, i] = 1\n",
    "\n",
    "        num_ids = np.array(num_ids, dtype=np.int32)\n",
    "        return mask, num_ids #np.ones([mask.shape[-1]], dtype=np.int32)\n",
    "\n",
    "    def image_reference(self, image_id):\n",
    "        \"\"\"Return the path of the image.\"\"\"\n",
    "        info = self.image_info[image_id]\n",
    "        if info[\"source\"] == \"object\":\n",
    "            return info[\"path\"]\n",
    "        else:\n",
    "            super(self.__class__, self).image_reference(image_id)\n"
   ]
  },
  {
   "cell_type": "code",
   "execution_count": null,
   "metadata": {},
   "outputs": [],
   "source": [
    "CUSTOM_DIR = \"C:/Users/user/Desktop/EVERYTHING/APC/Mtech/Mtech-Sem3/DISSERTATION/FINAL_DATASET/project/PROJECT_1/Dataset\"\n",
    "dataset = CustomDataset_train()\n",
    "dataset.load_custom(CUSTOM_DIR, \"train\")\n",
    "dataset.prepare()\n",
    "print(\"Images: {}\\nClasses: {}\".format(len(dataset.image_ids), dataset.class_names))"
   ]
  },
  {
   "cell_type": "code",
   "execution_count": null,
   "metadata": {},
   "outputs": [],
   "source": [
    "config = CustomConfig()\n",
    "#LOAD MODEL. Create model in inference mode\n",
    "model = modellib.MaskRCNN(mode=\"inference\", model_dir=MODEL_DIR, config=config)"
   ]
  },
  {
   "cell_type": "code",
   "execution_count": null,
   "metadata": {},
   "outputs": [],
   "source": [
    "# Load COCO weights Or, load the last model you trained\n",
    "weights_path = WEIGHTS_PATH\n",
    "# Load weights\n",
    "print(\"Loading weights \", weights_path)\n",
    "model.load_weights(weights_path, by_name=True)"
   ]
  },
  {
   "cell_type": "code",
   "execution_count": null,
   "metadata": {},
   "outputs": [],
   "source": [
    "# evaluate model on TRAIN dataset\n",
    "train_AP = evaluate_model(dataset, model, config)\n",
    "TOTAL = 0.0\n",
    "for i in range(0,len(train_AP)):\n",
    "    TOTAL = TOTAL + train_AP[i]\n",
    "print(\"Train AP: \", TOTAL)\n",
    "train_mAP = TOTAL/len(train_AP)\n",
    "print(\"Train mAP: %.3f\" % train_mAP)"
   ]
  },
  {
   "cell_type": "code",
   "execution_count": null,
   "metadata": {},
   "outputs": [],
   "source": [
    "from mrcnn.visualize_cv2_old_new import display_instances"
   ]
  },
  {
   "cell_type": "code",
   "execution_count": null,
   "metadata": {},
   "outputs": [],
   "source": [
    "capture = cv2.VideoCapture('C:/Users/user/Desktop/EVERYTHING/APC/Mtech/Mtech-Sem3/DISSERTATION/FINAL_DATASET/Pendrive_files/2021-10-29_162820_498OMI_1.avi')\n",
    "frame_count = 0\n",
    "size = (\n",
    "    int(capture.get(cv2.CAP_PROP_FRAME_WIDTH)),\n",
    "    int(capture.get(cv2.CAP_PROP_FRAME_HEIGHT))\n",
    ")\n",
    "codec = cv2.VideoWriter_fourcc(*'DIVX')\n",
    "output = cv2.VideoWriter('C:/Users/user/Desktop/EVERYTHING/APC/Mtech/Mtech-Sem3/DISSERTATION/FINAL_DATASET/project/PROJECT_1/Masked/Masked_Full_Video_demo_10.avi', codec, 60.0, size)\n",
    "\n",
    "while(capture.isOpened()):\n",
    "    ret, frame = capture.read()\n",
    "    if ret:\n",
    "        frame_count+=1\n",
    "        if frame_count > 0:\n",
    "\n",
    "        # add mask to frame\n",
    "            results = model.detect([frame], verbose=0)\n",
    "            r = results[0]\n",
    "            frame = display_instances(\n",
    "                frame, r['rois'], r['masks'], r['class_ids'], dataset.class_names, r['scores']\n",
    "            )\n",
    "            output.write(frame)\n",
    "            plt.imshow(cv2.cvtColor(frame, cv2.COLOR_BGR2RGB))\n",
    "            #plt.imshow(cv2.cvtColor(frame, cv2.IMREAD_UNCHANGED))\n",
    "        \n",
    "            plt.show()\n",
    "            #cv2.imshow('frame', frame)\n",
    "\n",
    "            if cv2.waitKey(1) & 0xFF == ord('q'):\n",
    "                break\n",
    "    else:\n",
    "        break\n",
    "\n",
    "capture.release()\n",
    "output.release()\n",
    "cv2.destroyAllWindows()"
   ]
  }
 ],
 "metadata": {
  "kernelspec": {
   "display_name": "Python 3 (ipykernel)",
   "language": "python",
   "name": "python3"
  },
  "language_info": {
   "codemirror_mode": {
    "name": "ipython",
    "version": 3
   },
   "file_extension": ".py",
   "mimetype": "text/x-python",
   "name": "python",
   "nbconvert_exporter": "python",
   "pygments_lexer": "ipython3",
   "version": "3.8.5"
  }
 },
 "nbformat": 4,
 "nbformat_minor": 4
}
